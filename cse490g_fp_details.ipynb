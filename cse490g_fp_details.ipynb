{
  "nbformat": 4,
  "nbformat_minor": 0,
  "metadata": {
    "colab": {
      "name": "CSE490G Final Project.ipynb",
      "provenance": [],
      "collapsed_sections": []
    },
    "kernelspec": {
      "name": "python3",
      "display_name": "Python 3"
    },
    "accelerator": "GPU"
  },
  "cells": [
    {
      "cell_type": "markdown",
      "metadata": {
        "id": "JpzN6XlYc-6h"
      },
      "source": [
        "# Data Preparation"
      ]
    },
    {
      "cell_type": "markdown",
      "metadata": {
        "id": "UCjub5FOsOph"
      },
      "source": [
        "## Web-scraping via Twitter API\n",
        "tweepy documentation: http://docs.tweepy.org/en/latest/\n",
        "\n",
        "! It is really weird while scraping Trump's tweets.\n",
        "Seems like being banned...\n",
        "https://github.com/tweepy/tweepy/issues/1361"
      ]
    },
    {
      "cell_type": "code",
      "metadata": {
        "colab": {
          "base_uri": "https://localhost:8080/"
        },
        "id": "Fj_DgEloVFrN",
        "outputId": "a22438ab-583a-44ae-d994-55ac479f20ed"
      },
      "source": [
        "!pip install tweepy"
      ],
      "execution_count": 53,
      "outputs": [
        {
          "output_type": "stream",
          "text": [
            "Requirement already satisfied: tweepy in /usr/local/lib/python3.6/dist-packages (3.6.0)\n",
            "Requirement already satisfied: requests>=2.11.1 in /usr/local/lib/python3.6/dist-packages (from tweepy) (2.23.0)\n",
            "Requirement already satisfied: six>=1.10.0 in /usr/local/lib/python3.6/dist-packages (from tweepy) (1.15.0)\n",
            "Requirement already satisfied: PySocks>=1.5.7 in /usr/local/lib/python3.6/dist-packages (from tweepy) (1.7.1)\n",
            "Requirement already satisfied: requests-oauthlib>=0.7.0 in /usr/local/lib/python3.6/dist-packages (from tweepy) (1.3.0)\n",
            "Requirement already satisfied: certifi>=2017.4.17 in /usr/local/lib/python3.6/dist-packages (from requests>=2.11.1->tweepy) (2020.12.5)\n",
            "Requirement already satisfied: chardet<4,>=3.0.2 in /usr/local/lib/python3.6/dist-packages (from requests>=2.11.1->tweepy) (3.0.4)\n",
            "Requirement already satisfied: idna<3,>=2.5 in /usr/local/lib/python3.6/dist-packages (from requests>=2.11.1->tweepy) (2.10)\n",
            "Requirement already satisfied: urllib3!=1.25.0,!=1.25.1,<1.26,>=1.21.1 in /usr/local/lib/python3.6/dist-packages (from requests>=2.11.1->tweepy) (1.24.3)\n",
            "Requirement already satisfied: oauthlib>=3.0.0 in /usr/local/lib/python3.6/dist-packages (from requests-oauthlib>=0.7.0->tweepy) (3.1.0)\n"
          ],
          "name": "stdout"
        }
      ]
    },
    {
      "cell_type": "code",
      "metadata": {
        "colab": {
          "base_uri": "https://localhost:8080/"
        },
        "id": "Z2mWx-4GPukA",
        "outputId": "58935c4a-5352-4105-ece2-c734321664ae"
      },
      "source": [
        "from google.colab import drive\n",
        "drive.mount('/gdrive')\n",
        "!ls /gdrive"
      ],
      "execution_count": 11,
      "outputs": [
        {
          "output_type": "stream",
          "text": [
            "Drive already mounted at /gdrive; to attempt to forcibly remount, call drive.mount(\"/gdrive\", force_remount=True).\n",
            "'My Drive'\n"
          ],
          "name": "stdout"
        }
      ]
    },
    {
      "cell_type": "code",
      "metadata": {
        "id": "FyabfuVZP0xy"
      },
      "source": [
        "import os\n",
        "BASE_PATH = '/gdrive/My Drive/colab_files/fp/'\n",
        "DATA_PATH = '/gdrive/My Drive/colab_files/fp/dataset/'\n",
        "if not os.path.exists(DATA_PATH):\n",
        "    os.makedirs(DATA_PATH)\n",
        "\n",
        "# if not os.path.exists(os.path.join(DATA_PATH, 'harry_potter.txt')):\n",
        "#     os.chdir(BASE_PATH)\n",
        "#     !wget https://courses.cs.washington.edu/courses/cse599g1/19au/files/homework3.tar.gz\n",
        "#     !tar -zxvf homework3.tar.gz\n",
        "#     !rm homework3.tar.gz\n",
        "#     !cp pt_util.py /content\n",
        "#     !cp harry_potter.txt /content\n",
        "# os.chdir('/content')"
      ],
      "execution_count": 12,
      "outputs": []
    },
    {
      "cell_type": "code",
      "metadata": {
        "id": "BPOho2mVVkNj"
      },
      "source": [
        "import tweepy\n",
        "import time\n",
        "import pandas as pd"
      ],
      "execution_count": 2,
      "outputs": []
    },
    {
      "cell_type": "code",
      "metadata": {
        "id": "1hVVKTZ1VPVz"
      },
      "source": [
        "consumer_key = \"\"\n",
        "consumer_secret = \"\"\n",
        "access_token = \"\"\n",
        "access_token_secret = \"\"\n",
        "auth = tweepy.OAuthHandler(consumer_key, consumer_secret)\n",
        "auth.set_access_token(access_token, access_token_secret)\n",
        "api = tweepy.API(auth,wait_on_rate_limit=True)"
      ],
      "execution_count": 57,
      "outputs": []
    },
    {
      "cell_type": "code",
      "metadata": {
        "id": "PHhJyXDpVqYk",
        "colab": {
          "base_uri": "https://localhost:8080/"
        },
        "outputId": "8568c413-b2a0-46e7-9437-f1dccaa1c394"
      },
      "source": [
        "politicians = ['BernieSanders', 'realDonaldTrump', 'Mike_Pence', 'JoeBiden', 'KamalaHarris']\n",
        "count = 2500\n",
        "tweets_df = pd.DataFrame(columns=['text', 'politician'])\n",
        "\n",
        "for name in politicians:\n",
        "    try:\n",
        "        # Creation of query method using parameters\n",
        "        tweets = tweepy.Cursor(api.user_timeline, screen_name='@'+name, tweet_mode=\"extended\").items(count)\n",
        "        tweets_list = [{'text': tweet.full_text, 'politician': name} for tweet in tweets]\n",
        "        print(len(tweets_list))\n",
        "        # break\n",
        "        tweets_df = tweets_df.append(tweets_list, ignore_index = True)\n",
        "        # for tweet in tweets:\n",
        "        #     tweets_df = tweets_df.append({'text': tweet.full_text, 'label': coding, 'politician': name}, ignore_index = True)\n",
        "\n",
        "    except BaseException as e:\n",
        "        print('failed on_status,',str(e))\n",
        "        time.sleep(3)"
      ],
      "execution_count": 58,
      "outputs": [
        {
          "output_type": "stream",
          "text": [
            "2500\n",
            "20\n",
            "2500\n",
            "2500\n",
            "2500\n"
          ],
          "name": "stdout"
        }
      ]
    },
    {
      "cell_type": "code",
      "metadata": {
        "colab": {
          "base_uri": "https://localhost:8080/"
        },
        "id": "OKO9bLLJBKjR",
        "outputId": "dbf93845-2117-41e6-f899-e07698a0d92e"
      },
      "source": [
        "tweets = tweepy.Cursor(api.user_timeline, screen_name='@realDonaldTrump', tweet_mode=\"extended\", count=count).items()\n",
        "tweets_list = [{'text': tweet.full_text, 'politician': 'realDonaldTrump'} for tweet in tweets]\n",
        "len(tweets_list)"
      ],
      "execution_count": 68,
      "outputs": [
        {
          "output_type": "execute_result",
          "data": {
            "text/plain": [
              "2193"
            ]
          },
          "metadata": {
            "tags": []
          },
          "execution_count": 68
        }
      ]
    },
    {
      "cell_type": "code",
      "metadata": {
        "colab": {
          "base_uri": "https://localhost:8080/"
        },
        "id": "ZGCszZI8YyQl",
        "outputId": "34c9c0e9-5d82-400d-d385-bd32fe0bb01b"
      },
      "source": [
        "tweets_df = tweets_df[tweets_df['politician'] != 'realDonaldTrump']\n",
        "tweets_df = tweets_df.append(tweets_list, ignore_index = True)\n",
        "print(tweets_df.shape)"
      ],
      "execution_count": 69,
      "outputs": [
        {
          "output_type": "stream",
          "text": [
            "(12193, 2)\n"
          ],
          "name": "stdout"
        }
      ]
    },
    {
      "cell_type": "code",
      "metadata": {
        "id": "srB2Tp0AV8qk",
        "colab": {
          "base_uri": "https://localhost:8080/",
          "height": 204
        },
        "outputId": "0fbcfeb3-6896-420a-f161-c7a348562c43"
      },
      "source": [
        "# tweets_df.to_csv(DATA_PATH+'politician_tweets.csv')\n",
        "tweets_df.head()"
      ],
      "execution_count": 91,
      "outputs": [
        {
          "output_type": "execute_result",
          "data": {
            "text/html": [
              "<div>\n",
              "<style scoped>\n",
              "    .dataframe tbody tr th:only-of-type {\n",
              "        vertical-align: middle;\n",
              "    }\n",
              "\n",
              "    .dataframe tbody tr th {\n",
              "        vertical-align: top;\n",
              "    }\n",
              "\n",
              "    .dataframe thead th {\n",
              "        text-align: right;\n",
              "    }\n",
              "</style>\n",
              "<table border=\"1\" class=\"dataframe\">\n",
              "  <thead>\n",
              "    <tr style=\"text-align: right;\">\n",
              "      <th></th>\n",
              "      <th>text</th>\n",
              "      <th>politician</th>\n",
              "    </tr>\n",
              "  </thead>\n",
              "  <tbody>\n",
              "    <tr>\n",
              "      <th>0</th>\n",
              "      <td>RT @KillerMike: Going live with the OG @bernie...</td>\n",
              "      <td>BernieSanders</td>\n",
              "    </tr>\n",
              "    <tr>\n",
              "      <th>1</th>\n",
              "      <td>RT @ossoff: It’s been 8 months.  \\n\\n@Perduese...</td>\n",
              "      <td>BernieSanders</td>\n",
              "    </tr>\n",
              "    <tr>\n",
              "      <th>2</th>\n",
              "      <td>While the pandemic is surging, Senate Republic...</td>\n",
              "      <td>BernieSanders</td>\n",
              "    </tr>\n",
              "    <tr>\n",
              "      <th>3</th>\n",
              "      <td>Wages subsidized by the government during pand...</td>\n",
              "      <td>BernieSanders</td>\n",
              "    </tr>\n",
              "    <tr>\n",
              "      <th>4</th>\n",
              "      <td>Brandon Bernard should be alive today. We must...</td>\n",
              "      <td>BernieSanders</td>\n",
              "    </tr>\n",
              "  </tbody>\n",
              "</table>\n",
              "</div>"
            ],
            "text/plain": [
              "                                                text     politician\n",
              "0  RT @KillerMike: Going live with the OG @bernie...  BernieSanders\n",
              "1  RT @ossoff: It’s been 8 months.  \\n\\n@Perduese...  BernieSanders\n",
              "2  While the pandemic is surging, Senate Republic...  BernieSanders\n",
              "3  Wages subsidized by the government during pand...  BernieSanders\n",
              "4  Brandon Bernard should be alive today. We must...  BernieSanders"
            ]
          },
          "metadata": {
            "tags": []
          },
          "execution_count": 91
        }
      ]
    },
    {
      "cell_type": "markdown",
      "metadata": {
        "id": "J_FcKTx6fdUZ"
      },
      "source": [
        "## Preprocessing\n",
        "Process text before training"
      ]
    },
    {
      "cell_type": "markdown",
      "metadata": {
        "id": "5EzzAp3SsGLd"
      },
      "source": [
        "### Text Cleansing\n",
        "*Ref: https://www.kaggle.com/sudalairajkumar/getting-started-with-text-preprocessing#Lemmatization*\n",
        "* Lowercasing\n",
        "* Removal of URLs\n",
        "* Removal of symbols (Punctuations)\n",
        "* Emoji / Emoticons\n",
        "* Lemmitization"
      ]
    },
    {
      "cell_type": "code",
      "metadata": {
        "id": "tGehbbusWNig"
      },
      "source": [
        "import re\n",
        "import nltk\n",
        "import spacy\n",
        "import string\n",
        "\n",
        "DATA_PATH = 'drive/MyDrive/colab_files/fp/dataset/'"
      ],
      "execution_count": 5,
      "outputs": []
    },
    {
      "cell_type": "code",
      "metadata": {
        "colab": {
          "base_uri": "https://localhost:8080/"
        },
        "id": "-SGw-ED2uYuC",
        "outputId": "0cab3e6a-ae81-4eac-d26f-c2f23e548baa"
      },
      "source": [
        "!ls drive/MyDrive/colab_files/fp/dataset"
      ],
      "execution_count": 4,
      "outputs": [
        {
          "output_type": "stream",
          "text": [
            "JoeBiden.csv\t  politician_tweets.csv\t\t   test.csv\n",
            "KamalaHarris.csv  politician_tweets_processed.csv  train.csv\n",
            "Mike_Pence.csv\t  realDonaldTrump.csv\t\t   valid.csv\n"
          ],
          "name": "stdout"
        }
      ]
    },
    {
      "cell_type": "code",
      "metadata": {
        "id": "f6YsshP5pRsC"
      },
      "source": [
        "tweets_df = pd.read_csv(DATA_PATH+'politician_tweets.csv', index_col=0)"
      ],
      "execution_count": 6,
      "outputs": []
    },
    {
      "cell_type": "code",
      "metadata": {
        "id": "T_2ZBhEdiSqU",
        "colab": {
          "base_uri": "https://localhost:8080/",
          "height": 359
        },
        "outputId": "e5c4e828-8113-44ea-a1a5-cf6cd807b754"
      },
      "source": [
        "# lowercasing\n",
        "tweets_df[\"text\"] = tweets_df[\"text\"].astype(str)\n",
        "tweets_df[\"text\"] = tweets_df[\"text\"].str.lower()\n",
        "tweets_df.head(10)"
      ],
      "execution_count": 7,
      "outputs": [
        {
          "output_type": "execute_result",
          "data": {
            "text/html": [
              "<div>\n",
              "<style scoped>\n",
              "    .dataframe tbody tr th:only-of-type {\n",
              "        vertical-align: middle;\n",
              "    }\n",
              "\n",
              "    .dataframe tbody tr th {\n",
              "        vertical-align: top;\n",
              "    }\n",
              "\n",
              "    .dataframe thead th {\n",
              "        text-align: right;\n",
              "    }\n",
              "</style>\n",
              "<table border=\"1\" class=\"dataframe\">\n",
              "  <thead>\n",
              "    <tr style=\"text-align: right;\">\n",
              "      <th></th>\n",
              "      <th>text</th>\n",
              "      <th>politician</th>\n",
              "    </tr>\n",
              "  </thead>\n",
              "  <tbody>\n",
              "    <tr>\n",
              "      <th>0</th>\n",
              "      <td>rt @killermike: going live with the og @bernie...</td>\n",
              "      <td>BernieSanders</td>\n",
              "    </tr>\n",
              "    <tr>\n",
              "      <th>1</th>\n",
              "      <td>rt @ossoff: it’s been 8 months.  \\n\\n@perduese...</td>\n",
              "      <td>BernieSanders</td>\n",
              "    </tr>\n",
              "    <tr>\n",
              "      <th>2</th>\n",
              "      <td>while the pandemic is surging, senate republic...</td>\n",
              "      <td>BernieSanders</td>\n",
              "    </tr>\n",
              "    <tr>\n",
              "      <th>3</th>\n",
              "      <td>wages subsidized by the government during pand...</td>\n",
              "      <td>BernieSanders</td>\n",
              "    </tr>\n",
              "    <tr>\n",
              "      <th>4</th>\n",
              "      <td>brandon bernard should be alive today. we must...</td>\n",
              "      <td>BernieSanders</td>\n",
              "    </tr>\n",
              "    <tr>\n",
              "      <th>5</th>\n",
              "      <td>it would be outrageous and unacceptable for me...</td>\n",
              "      <td>BernieSanders</td>\n",
              "    </tr>\n",
              "    <tr>\n",
              "      <th>6</th>\n",
              "      <td>people all over the country are thinking: does...</td>\n",
              "      <td>BernieSanders</td>\n",
              "    </tr>\n",
              "    <tr>\n",
              "      <th>7</th>\n",
              "      <td>i will be voting against the defense appropria...</td>\n",
              "      <td>BernieSanders</td>\n",
              "    </tr>\n",
              "    <tr>\n",
              "      <th>8</th>\n",
              "      <td>corporate irresponsibility during this pandemi...</td>\n",
              "      <td>BernieSanders</td>\n",
              "    </tr>\n",
              "    <tr>\n",
              "      <th>9</th>\n",
              "      <td>endless money for wars? no problem. endless mo...</td>\n",
              "      <td>BernieSanders</td>\n",
              "    </tr>\n",
              "  </tbody>\n",
              "</table>\n",
              "</div>"
            ],
            "text/plain": [
              "                                                text     politician\n",
              "0  rt @killermike: going live with the og @bernie...  BernieSanders\n",
              "1  rt @ossoff: it’s been 8 months.  \\n\\n@perduese...  BernieSanders\n",
              "2  while the pandemic is surging, senate republic...  BernieSanders\n",
              "3  wages subsidized by the government during pand...  BernieSanders\n",
              "4  brandon bernard should be alive today. we must...  BernieSanders\n",
              "5  it would be outrageous and unacceptable for me...  BernieSanders\n",
              "6  people all over the country are thinking: does...  BernieSanders\n",
              "7  i will be voting against the defense appropria...  BernieSanders\n",
              "8  corporate irresponsibility during this pandemi...  BernieSanders\n",
              "9  endless money for wars? no problem. endless mo...  BernieSanders"
            ]
          },
          "metadata": {
            "tags": []
          },
          "execution_count": 7
        }
      ]
    },
    {
      "cell_type": "code",
      "metadata": {
        "id": "5AejoH_tixbx",
        "colab": {
          "base_uri": "https://localhost:8080/",
          "height": 35
        },
        "outputId": "ee204354-0739-4d66-dbb2-95d9512f8c2a"
      },
      "source": [
        "# remove URLs\n",
        "def remove_urls(text):\n",
        "    url_pattern = re.compile(r'((http|https)\\:\\/\\/)?[a-zA-Z0-9\\.\\/\\?\\:@\\-_=#]+\\.([a-zA-Z]){2,6}([a-zA-Z0-9\\.\\&\\/\\?\\:@\\-_=#])*')\n",
        "    return url_pattern.sub(r'[url]', text)\n",
        "# test\n",
        "text = 'https://t.co/dx3c7jne4o Driverless AI NLP blog post on https://www.h2o.ai/blog/detecting-sarcasm-is-difficult-but-ai-may-have-an-answer/'\n",
        "remove_urls(text)"
      ],
      "execution_count": 8,
      "outputs": [
        {
          "output_type": "execute_result",
          "data": {
            "application/vnd.google.colaboratory.intrinsic+json": {
              "type": "string"
            },
            "text/plain": [
              "'[url] Driverless AI NLP blog post on [url]'"
            ]
          },
          "metadata": {
            "tags": []
          },
          "execution_count": 8
        }
      ]
    },
    {
      "cell_type": "code",
      "metadata": {
        "id": "lSUcdO3Rn9Xw",
        "colab": {
          "base_uri": "https://localhost:8080/",
          "height": 204
        },
        "outputId": "b69eb7d1-f89e-4923-90cc-b5a9c8f7a284"
      },
      "source": [
        "tweets_df[\"text\"] = tweets_df[\"text\"].apply(remove_urls)\n",
        "tweets_df.head(5)"
      ],
      "execution_count": 9,
      "outputs": [
        {
          "output_type": "execute_result",
          "data": {
            "text/html": [
              "<div>\n",
              "<style scoped>\n",
              "    .dataframe tbody tr th:only-of-type {\n",
              "        vertical-align: middle;\n",
              "    }\n",
              "\n",
              "    .dataframe tbody tr th {\n",
              "        vertical-align: top;\n",
              "    }\n",
              "\n",
              "    .dataframe thead th {\n",
              "        text-align: right;\n",
              "    }\n",
              "</style>\n",
              "<table border=\"1\" class=\"dataframe\">\n",
              "  <thead>\n",
              "    <tr style=\"text-align: right;\">\n",
              "      <th></th>\n",
              "      <th>text</th>\n",
              "      <th>politician</th>\n",
              "    </tr>\n",
              "  </thead>\n",
              "  <tbody>\n",
              "    <tr>\n",
              "      <th>0</th>\n",
              "      <td>rt @killermike: going live with the og @bernie...</td>\n",
              "      <td>BernieSanders</td>\n",
              "    </tr>\n",
              "    <tr>\n",
              "      <th>1</th>\n",
              "      <td>rt @ossoff: it’s been 8 months.  \\n\\n@perduese...</td>\n",
              "      <td>BernieSanders</td>\n",
              "    </tr>\n",
              "    <tr>\n",
              "      <th>2</th>\n",
              "      <td>while the pandemic is surging, senate republic...</td>\n",
              "      <td>BernieSanders</td>\n",
              "    </tr>\n",
              "    <tr>\n",
              "      <th>3</th>\n",
              "      <td>wages subsidized by the government during pand...</td>\n",
              "      <td>BernieSanders</td>\n",
              "    </tr>\n",
              "    <tr>\n",
              "      <th>4</th>\n",
              "      <td>brandon bernard should be alive today. we must...</td>\n",
              "      <td>BernieSanders</td>\n",
              "    </tr>\n",
              "  </tbody>\n",
              "</table>\n",
              "</div>"
            ],
            "text/plain": [
              "                                                text     politician\n",
              "0  rt @killermike: going live with the og @bernie...  BernieSanders\n",
              "1  rt @ossoff: it’s been 8 months.  \\n\\n@perduese...  BernieSanders\n",
              "2  while the pandemic is surging, senate republic...  BernieSanders\n",
              "3  wages subsidized by the government during pand...  BernieSanders\n",
              "4  brandon bernard should be alive today. we must...  BernieSanders"
            ]
          },
          "metadata": {
            "tags": []
          },
          "execution_count": 9
        }
      ]
    },
    {
      "cell_type": "code",
      "metadata": {
        "id": "j5id5udgoNgK"
      },
      "source": [
        "# Reference : https://gist.github.com/slowkow/7a7f61f495e3dbb7e3d767f97bd7304b\n",
        "def remove_emoji(string):\n",
        "    emoji_pattern = re.compile(\"[\"\n",
        "                           u\"\\U0001F600-\\U0001F64F\"  # emoticons\n",
        "                           u\"\\U0001F300-\\U0001F5FF\"  # symbols & pictographs\n",
        "                           u\"\\U0001F680-\\U0001F6FF\"  # transport & map symbols\n",
        "                           u\"\\U0001F1E0-\\U0001F1FF\"  # flags (iOS)\n",
        "                           u\"\\U00002702-\\U000027B0\"\n",
        "                           u\"\\U000024C2-\\U0001F251\"\n",
        "                           \"]+\", flags=re.UNICODE)\n",
        "    return emoji_pattern.sub(r'', string)\n",
        "\n",
        "# remove_emoji(\"game is on 🔥🔥\")"
      ],
      "execution_count": 10,
      "outputs": []
    },
    {
      "cell_type": "code",
      "metadata": {
        "id": "1ZP9LbdkqEeZ",
        "colab": {
          "base_uri": "https://localhost:8080/",
          "height": 204
        },
        "outputId": "abd8f99c-a266-4d1a-ef29-2dfbbf0a23b1"
      },
      "source": [
        "tweets_df[\"text\"] = tweets_df[\"text\"].apply(remove_emoji)\n",
        "tweets_df.head(5)"
      ],
      "execution_count": 11,
      "outputs": [
        {
          "output_type": "execute_result",
          "data": {
            "text/html": [
              "<div>\n",
              "<style scoped>\n",
              "    .dataframe tbody tr th:only-of-type {\n",
              "        vertical-align: middle;\n",
              "    }\n",
              "\n",
              "    .dataframe tbody tr th {\n",
              "        vertical-align: top;\n",
              "    }\n",
              "\n",
              "    .dataframe thead th {\n",
              "        text-align: right;\n",
              "    }\n",
              "</style>\n",
              "<table border=\"1\" class=\"dataframe\">\n",
              "  <thead>\n",
              "    <tr style=\"text-align: right;\">\n",
              "      <th></th>\n",
              "      <th>text</th>\n",
              "      <th>politician</th>\n",
              "    </tr>\n",
              "  </thead>\n",
              "  <tbody>\n",
              "    <tr>\n",
              "      <th>0</th>\n",
              "      <td>rt @killermike: going live with the og @bernie...</td>\n",
              "      <td>BernieSanders</td>\n",
              "    </tr>\n",
              "    <tr>\n",
              "      <th>1</th>\n",
              "      <td>rt @ossoff: it’s been 8 months.  \\n\\n@perduese...</td>\n",
              "      <td>BernieSanders</td>\n",
              "    </tr>\n",
              "    <tr>\n",
              "      <th>2</th>\n",
              "      <td>while the pandemic is surging, senate republic...</td>\n",
              "      <td>BernieSanders</td>\n",
              "    </tr>\n",
              "    <tr>\n",
              "      <th>3</th>\n",
              "      <td>wages subsidized by the government during pand...</td>\n",
              "      <td>BernieSanders</td>\n",
              "    </tr>\n",
              "    <tr>\n",
              "      <th>4</th>\n",
              "      <td>brandon bernard should be alive today. we must...</td>\n",
              "      <td>BernieSanders</td>\n",
              "    </tr>\n",
              "  </tbody>\n",
              "</table>\n",
              "</div>"
            ],
            "text/plain": [
              "                                                text     politician\n",
              "0  rt @killermike: going live with the og @bernie...  BernieSanders\n",
              "1  rt @ossoff: it’s been 8 months.  \\n\\n@perduese...  BernieSanders\n",
              "2  while the pandemic is surging, senate republic...  BernieSanders\n",
              "3  wages subsidized by the government during pand...  BernieSanders\n",
              "4  brandon bernard should be alive today. we must...  BernieSanders"
            ]
          },
          "metadata": {
            "tags": []
          },
          "execution_count": 11
        }
      ]
    },
    {
      "cell_type": "code",
      "metadata": {
        "id": "l5Tk81SPs89Y",
        "colab": {
          "base_uri": "https://localhost:8080/",
          "height": 204
        },
        "outputId": "27d012fd-ebd4-4ab3-ad72-e6edcb2e40a5"
      },
      "source": [
        "def remove_punctuation(text):\n",
        "    \"\"\"custom function to remove the punctuation\"\"\"\n",
        "    return text.translate(str.maketrans('', '', string.punctuation))\n",
        "\n",
        "tweets_df[\"text\"] = tweets_df[\"text\"].apply(remove_punctuation)\n",
        "tweets_df.head()"
      ],
      "execution_count": 12,
      "outputs": [
        {
          "output_type": "execute_result",
          "data": {
            "text/html": [
              "<div>\n",
              "<style scoped>\n",
              "    .dataframe tbody tr th:only-of-type {\n",
              "        vertical-align: middle;\n",
              "    }\n",
              "\n",
              "    .dataframe tbody tr th {\n",
              "        vertical-align: top;\n",
              "    }\n",
              "\n",
              "    .dataframe thead th {\n",
              "        text-align: right;\n",
              "    }\n",
              "</style>\n",
              "<table border=\"1\" class=\"dataframe\">\n",
              "  <thead>\n",
              "    <tr style=\"text-align: right;\">\n",
              "      <th></th>\n",
              "      <th>text</th>\n",
              "      <th>politician</th>\n",
              "    </tr>\n",
              "  </thead>\n",
              "  <tbody>\n",
              "    <tr>\n",
              "      <th>0</th>\n",
              "      <td>rt killermike going live with the og berniesan...</td>\n",
              "      <td>BernieSanders</td>\n",
              "    </tr>\n",
              "    <tr>\n",
              "      <th>1</th>\n",
              "      <td>rt ossoff it’s been 8 months  \\n\\nperduesenate...</td>\n",
              "      <td>BernieSanders</td>\n",
              "    </tr>\n",
              "    <tr>\n",
              "      <th>2</th>\n",
              "      <td>while the pandemic is surging senate republica...</td>\n",
              "      <td>BernieSanders</td>\n",
              "    </tr>\n",
              "    <tr>\n",
              "      <th>3</th>\n",
              "      <td>wages subsidized by the government during pand...</td>\n",
              "      <td>BernieSanders</td>\n",
              "    </tr>\n",
              "    <tr>\n",
              "      <th>4</th>\n",
              "      <td>brandon bernard should be alive today we must ...</td>\n",
              "      <td>BernieSanders</td>\n",
              "    </tr>\n",
              "  </tbody>\n",
              "</table>\n",
              "</div>"
            ],
            "text/plain": [
              "                                                text     politician\n",
              "0  rt killermike going live with the og berniesan...  BernieSanders\n",
              "1  rt ossoff it’s been 8 months  \\n\\nperduesenate...  BernieSanders\n",
              "2  while the pandemic is surging senate republica...  BernieSanders\n",
              "3  wages subsidized by the government during pand...  BernieSanders\n",
              "4  brandon bernard should be alive today we must ...  BernieSanders"
            ]
          },
          "metadata": {
            "tags": []
          },
          "execution_count": 12
        }
      ]
    },
    {
      "cell_type": "code",
      "metadata": {
        "id": "oczW7-YVrBUs",
        "colab": {
          "base_uri": "https://localhost:8080/"
        },
        "outputId": "7ae64ca2-b7ba-402c-a82e-b0685a4a1b98"
      },
      "source": [
        "from nltk.stem import WordNetLemmatizer\n",
        "nltk.download('wordnet')\n",
        "lemmatizer = WordNetLemmatizer()"
      ],
      "execution_count": 13,
      "outputs": [
        {
          "output_type": "stream",
          "text": [
            "[nltk_data] Downloading package wordnet to /root/nltk_data...\n",
            "[nltk_data]   Unzipping corpora/wordnet.zip.\n"
          ],
          "name": "stdout"
        }
      ]
    },
    {
      "cell_type": "code",
      "metadata": {
        "id": "DT6Kd89kqJQB",
        "colab": {
          "base_uri": "https://localhost:8080/",
          "height": 289
        },
        "outputId": "e8dc25e4-6a88-47c2-e72d-f30d23623cc2"
      },
      "source": [
        "# lemmatization\n",
        "def lemmatize_words(text):\n",
        "    return \" \".join([lemmatizer.lemmatize(word) for word in text.split()])\n",
        "\n",
        "tweets_df[\"text_lemmatized\"] = tweets_df[\"text\"].apply(lemmatize_words)\n",
        "tweets_df.head(5)"
      ],
      "execution_count": 14,
      "outputs": [
        {
          "output_type": "execute_result",
          "data": {
            "text/html": [
              "<div>\n",
              "<style scoped>\n",
              "    .dataframe tbody tr th:only-of-type {\n",
              "        vertical-align: middle;\n",
              "    }\n",
              "\n",
              "    .dataframe tbody tr th {\n",
              "        vertical-align: top;\n",
              "    }\n",
              "\n",
              "    .dataframe thead th {\n",
              "        text-align: right;\n",
              "    }\n",
              "</style>\n",
              "<table border=\"1\" class=\"dataframe\">\n",
              "  <thead>\n",
              "    <tr style=\"text-align: right;\">\n",
              "      <th></th>\n",
              "      <th>text</th>\n",
              "      <th>politician</th>\n",
              "      <th>text_lemmatized</th>\n",
              "    </tr>\n",
              "  </thead>\n",
              "  <tbody>\n",
              "    <tr>\n",
              "      <th>0</th>\n",
              "      <td>rt killermike going live with the og berniesan...</td>\n",
              "      <td>BernieSanders</td>\n",
              "      <td>rt killermike going live with the og berniesan...</td>\n",
              "    </tr>\n",
              "    <tr>\n",
              "      <th>1</th>\n",
              "      <td>rt ossoff it’s been 8 months  \\n\\nperduesenate...</td>\n",
              "      <td>BernieSanders</td>\n",
              "      <td>rt ossoff it’s been 8 month perduesenate get o...</td>\n",
              "    </tr>\n",
              "    <tr>\n",
              "      <th>2</th>\n",
              "      <td>while the pandemic is surging senate republica...</td>\n",
              "      <td>BernieSanders</td>\n",
              "      <td>while the pandemic is surging senate republica...</td>\n",
              "    </tr>\n",
              "    <tr>\n",
              "      <th>3</th>\n",
              "      <td>wages subsidized by the government during pand...</td>\n",
              "      <td>BernieSanders</td>\n",
              "      <td>wage subsidized by the government during pande...</td>\n",
              "    </tr>\n",
              "    <tr>\n",
              "      <th>4</th>\n",
              "      <td>brandon bernard should be alive today we must ...</td>\n",
              "      <td>BernieSanders</td>\n",
              "      <td>brandon bernard should be alive today we must ...</td>\n",
              "    </tr>\n",
              "  </tbody>\n",
              "</table>\n",
              "</div>"
            ],
            "text/plain": [
              "                                                text  ...                                    text_lemmatized\n",
              "0  rt killermike going live with the og berniesan...  ...  rt killermike going live with the og berniesan...\n",
              "1  rt ossoff it’s been 8 months  \\n\\nperduesenate...  ...  rt ossoff it’s been 8 month perduesenate get o...\n",
              "2  while the pandemic is surging senate republica...  ...  while the pandemic is surging senate republica...\n",
              "3  wages subsidized by the government during pand...  ...  wage subsidized by the government during pande...\n",
              "4  brandon bernard should be alive today we must ...  ...  brandon bernard should be alive today we must ...\n",
              "\n",
              "[5 rows x 3 columns]"
            ]
          },
          "metadata": {
            "tags": []
          },
          "execution_count": 14
        }
      ]
    },
    {
      "cell_type": "code",
      "metadata": {
        "id": "UrLjWyxz7sM2"
      },
      "source": [
        "tweets_df = tweets_df[tweets_df['text_lemmatized'] != 'url'] "
      ],
      "execution_count": 15,
      "outputs": []
    },
    {
      "cell_type": "code",
      "metadata": {
        "id": "F8UpYY3Z7-cc",
        "colab": {
          "base_uri": "https://localhost:8080/"
        },
        "outputId": "3415ed81-3994-44c7-fa82-d89151ed3b33"
      },
      "source": [
        "print(tweets_df.shape)\n",
        "print(tweets_df[tweets_df['politician'] == 'realDonaldTrump'].shape)\n",
        "print(tweets_df[tweets_df['politician'] == 'Mike_Pence'].shape)\n",
        "print(tweets_df[tweets_df['politician'] == 'JoeBiden'].shape)\n",
        "print(tweets_df[tweets_df['politician'] == 'KamalaHarris'].shape)"
      ],
      "execution_count": 16,
      "outputs": [
        {
          "output_type": "stream",
          "text": [
            "(11764, 3)\n",
            "(1914, 3)\n",
            "(2355, 3)\n",
            "(2495, 3)\n",
            "(2500, 3)\n"
          ],
          "name": "stdout"
        }
      ]
    },
    {
      "cell_type": "code",
      "metadata": {
        "id": "tjPPSjCfrRMk"
      },
      "source": [
        "# save for record\n",
        "# tweets_df.to_csv(DATA_PATH+'politician_tweets_processed.csv')"
      ],
      "execution_count": 105,
      "outputs": []
    },
    {
      "cell_type": "markdown",
      "metadata": {
        "id": "34TqzbxRr2mu"
      },
      "source": [
        "### Trim / Tokenize\n",
        "https://mlexplained.com/2018/02/08/a-comprehensive-tutorial-to-torchtext/\n",
        "https://pytorch.org/text/_modules/torchtext/data/field.html\n",
        "https://spacy.io/"
      ]
    },
    {
      "cell_type": "code",
      "metadata": {
        "id": "ASOoPpuJr-Y6"
      },
      "source": [
        "import pandas as pd\n",
        "import os\n",
        "BASE_PATH = 'drive/MyDrive/colab_files/fp/'\n",
        "DATA_PATH = 'drive/MyDrive/colab_files/fp/dataset/'\n",
        "# if not os.path.exists(DATA_PATH):\n",
        "#     os.makedirs(DATA_PATH)\n",
        "\n",
        "tweets_df = pd.read_csv(DATA_PATH+'politician_tweets_processed.csv', index_col=0)"
      ],
      "execution_count": 30,
      "outputs": []
    },
    {
      "cell_type": "code",
      "metadata": {
        "id": "A2azILoxIPn4"
      },
      "source": [
        "MAX_SIZE = 32 # avg word size of tweets is only 5.1 words\n",
        "def trim_str(x):\n",
        "    x = x.split(maxsplit=MAX_SIZE)\n",
        "    x = ' '.join(x[:MAX_SIZE])\n",
        "    return x\n",
        "\n",
        "tweets_df[\"text_lemmatized\"] = tweets_df[\"text_lemmatized\"].apply(trim_str)"
      ],
      "execution_count": 31,
      "outputs": []
    },
    {
      "cell_type": "code",
      "metadata": {
        "colab": {
          "base_uri": "https://localhost:8080/",
          "height": 529
        },
        "id": "ED8_dkrej3qN",
        "outputId": "75a8158f-e09d-47b3-fc3d-26f823498aaf"
      },
      "source": [
        "tweets_df.head(10)"
      ],
      "execution_count": 32,
      "outputs": [
        {
          "output_type": "execute_result",
          "data": {
            "text/html": [
              "<div>\n",
              "<style scoped>\n",
              "    .dataframe tbody tr th:only-of-type {\n",
              "        vertical-align: middle;\n",
              "    }\n",
              "\n",
              "    .dataframe tbody tr th {\n",
              "        vertical-align: top;\n",
              "    }\n",
              "\n",
              "    .dataframe thead th {\n",
              "        text-align: right;\n",
              "    }\n",
              "</style>\n",
              "<table border=\"1\" class=\"dataframe\">\n",
              "  <thead>\n",
              "    <tr style=\"text-align: right;\">\n",
              "      <th></th>\n",
              "      <th>text</th>\n",
              "      <th>politician</th>\n",
              "      <th>text_lemmatized</th>\n",
              "    </tr>\n",
              "  </thead>\n",
              "  <tbody>\n",
              "    <tr>\n",
              "      <th>0</th>\n",
              "      <td>rt killermike going live with the og berniesan...</td>\n",
              "      <td>BernieSanders</td>\n",
              "      <td>rt killermike going live with the og berniesan...</td>\n",
              "    </tr>\n",
              "    <tr>\n",
              "      <th>1</th>\n",
              "      <td>rt ossoff it’s been 8 months  \\n\\nperduesenate...</td>\n",
              "      <td>BernieSanders</td>\n",
              "      <td>rt ossoff it’s been 8 month perduesenate get o...</td>\n",
              "    </tr>\n",
              "    <tr>\n",
              "      <th>2</th>\n",
              "      <td>while the pandemic is surging senate republica...</td>\n",
              "      <td>BernieSanders</td>\n",
              "      <td>while the pandemic is surging senate republica...</td>\n",
              "    </tr>\n",
              "    <tr>\n",
              "      <th>3</th>\n",
              "      <td>wages subsidized by the government during pand...</td>\n",
              "      <td>BernieSanders</td>\n",
              "      <td>wage subsidized by the government during pande...</td>\n",
              "    </tr>\n",
              "    <tr>\n",
              "      <th>4</th>\n",
              "      <td>brandon bernard should be alive today we must ...</td>\n",
              "      <td>BernieSanders</td>\n",
              "      <td>brandon bernard should be alive today we must ...</td>\n",
              "    </tr>\n",
              "    <tr>\n",
              "      <th>5</th>\n",
              "      <td>it would be outrageous and unacceptable for me...</td>\n",
              "      <td>BernieSanders</td>\n",
              "      <td>it would be outrageous and unacceptable for me...</td>\n",
              "    </tr>\n",
              "    <tr>\n",
              "      <th>6</th>\n",
              "      <td>people all over the country are thinking does ...</td>\n",
              "      <td>BernieSanders</td>\n",
              "      <td>people all over the country are thinking doe t...</td>\n",
              "    </tr>\n",
              "    <tr>\n",
              "      <th>7</th>\n",
              "      <td>i will be voting against the defense appropria...</td>\n",
              "      <td>BernieSanders</td>\n",
              "      <td>i will be voting against the defense appropria...</td>\n",
              "    </tr>\n",
              "    <tr>\n",
              "      <th>8</th>\n",
              "      <td>corporate irresponsibility during this pandemi...</td>\n",
              "      <td>BernieSanders</td>\n",
              "      <td>corporate irresponsibility during this pandemi...</td>\n",
              "    </tr>\n",
              "    <tr>\n",
              "      <th>9</th>\n",
              "      <td>endless money for wars no problem endless mone...</td>\n",
              "      <td>BernieSanders</td>\n",
              "      <td>endless money for war no problem endless money...</td>\n",
              "    </tr>\n",
              "  </tbody>\n",
              "</table>\n",
              "</div>"
            ],
            "text/plain": [
              "                                                text  ...                                    text_lemmatized\n",
              "0  rt killermike going live with the og berniesan...  ...  rt killermike going live with the og berniesan...\n",
              "1  rt ossoff it’s been 8 months  \\n\\nperduesenate...  ...  rt ossoff it’s been 8 month perduesenate get o...\n",
              "2  while the pandemic is surging senate republica...  ...  while the pandemic is surging senate republica...\n",
              "3  wages subsidized by the government during pand...  ...  wage subsidized by the government during pande...\n",
              "4  brandon bernard should be alive today we must ...  ...  brandon bernard should be alive today we must ...\n",
              "5  it would be outrageous and unacceptable for me...  ...  it would be outrageous and unacceptable for me...\n",
              "6  people all over the country are thinking does ...  ...  people all over the country are thinking doe t...\n",
              "7  i will be voting against the defense appropria...  ...  i will be voting against the defense appropria...\n",
              "8  corporate irresponsibility during this pandemi...  ...  corporate irresponsibility during this pandemi...\n",
              "9  endless money for wars no problem endless mone...  ...  endless money for war no problem endless money...\n",
              "\n",
              "[10 rows x 3 columns]"
            ]
          },
          "metadata": {
            "tags": []
          },
          "execution_count": 32
        }
      ]
    },
    {
      "cell_type": "code",
      "metadata": {
        "colab": {
          "base_uri": "https://localhost:8080/",
          "height": 411
        },
        "id": "6YXVBG_wRcLJ",
        "outputId": "2d66f664-b564-49e9-fd60-6ad48496f556"
      },
      "source": [
        "tweets_df[\"sanders\"] = tweets_df[\"politician\"].apply(lambda x: int(x == 'BernieSanders'))\n",
        "tweets_df[\"pence\"] = tweets_df[\"politician\"].apply(lambda x: int(x == 'Mike_Pence'))\n",
        "tweets_df[\"trump\"] = tweets_df[\"politician\"].apply(lambda x: int(x == 'realDonaldTrump'))\n",
        "tweets_df[\"biden\"] = tweets_df[\"politician\"].apply(lambda x: int(x == 'JoeBiden'))\n",
        "tweets_df[\"harris\"] = tweets_df[\"politician\"].apply(lambda x: int(x == 'KamalaHarris'))\n",
        "tweets_df.head(5)"
      ],
      "execution_count": 33,
      "outputs": [
        {
          "output_type": "execute_result",
          "data": {
            "text/html": [
              "<div>\n",
              "<style scoped>\n",
              "    .dataframe tbody tr th:only-of-type {\n",
              "        vertical-align: middle;\n",
              "    }\n",
              "\n",
              "    .dataframe tbody tr th {\n",
              "        vertical-align: top;\n",
              "    }\n",
              "\n",
              "    .dataframe thead th {\n",
              "        text-align: right;\n",
              "    }\n",
              "</style>\n",
              "<table border=\"1\" class=\"dataframe\">\n",
              "  <thead>\n",
              "    <tr style=\"text-align: right;\">\n",
              "      <th></th>\n",
              "      <th>text</th>\n",
              "      <th>politician</th>\n",
              "      <th>text_lemmatized</th>\n",
              "      <th>sanders</th>\n",
              "      <th>pence</th>\n",
              "      <th>trump</th>\n",
              "      <th>biden</th>\n",
              "      <th>harris</th>\n",
              "    </tr>\n",
              "  </thead>\n",
              "  <tbody>\n",
              "    <tr>\n",
              "      <th>0</th>\n",
              "      <td>rt killermike going live with the og berniesan...</td>\n",
              "      <td>BernieSanders</td>\n",
              "      <td>rt killermike going live with the og berniesan...</td>\n",
              "      <td>1</td>\n",
              "      <td>0</td>\n",
              "      <td>0</td>\n",
              "      <td>0</td>\n",
              "      <td>0</td>\n",
              "    </tr>\n",
              "    <tr>\n",
              "      <th>1</th>\n",
              "      <td>rt ossoff it’s been 8 months  \\n\\nperduesenate...</td>\n",
              "      <td>BernieSanders</td>\n",
              "      <td>rt ossoff it’s been 8 month perduesenate get o...</td>\n",
              "      <td>1</td>\n",
              "      <td>0</td>\n",
              "      <td>0</td>\n",
              "      <td>0</td>\n",
              "      <td>0</td>\n",
              "    </tr>\n",
              "    <tr>\n",
              "      <th>2</th>\n",
              "      <td>while the pandemic is surging senate republica...</td>\n",
              "      <td>BernieSanders</td>\n",
              "      <td>while the pandemic is surging senate republica...</td>\n",
              "      <td>1</td>\n",
              "      <td>0</td>\n",
              "      <td>0</td>\n",
              "      <td>0</td>\n",
              "      <td>0</td>\n",
              "    </tr>\n",
              "    <tr>\n",
              "      <th>3</th>\n",
              "      <td>wages subsidized by the government during pand...</td>\n",
              "      <td>BernieSanders</td>\n",
              "      <td>wage subsidized by the government during pande...</td>\n",
              "      <td>1</td>\n",
              "      <td>0</td>\n",
              "      <td>0</td>\n",
              "      <td>0</td>\n",
              "      <td>0</td>\n",
              "    </tr>\n",
              "    <tr>\n",
              "      <th>4</th>\n",
              "      <td>brandon bernard should be alive today we must ...</td>\n",
              "      <td>BernieSanders</td>\n",
              "      <td>brandon bernard should be alive today we must ...</td>\n",
              "      <td>1</td>\n",
              "      <td>0</td>\n",
              "      <td>0</td>\n",
              "      <td>0</td>\n",
              "      <td>0</td>\n",
              "    </tr>\n",
              "  </tbody>\n",
              "</table>\n",
              "</div>"
            ],
            "text/plain": [
              "                                                text  ... harris\n",
              "0  rt killermike going live with the og berniesan...  ...      0\n",
              "1  rt ossoff it’s been 8 months  \\n\\nperduesenate...  ...      0\n",
              "2  while the pandemic is surging senate republica...  ...      0\n",
              "3  wages subsidized by the government during pand...  ...      0\n",
              "4  brandon bernard should be alive today we must ...  ...      0\n",
              "\n",
              "[5 rows x 8 columns]"
            ]
          },
          "metadata": {
            "tags": []
          },
          "execution_count": 33
        }
      ]
    },
    {
      "cell_type": "code",
      "metadata": {
        "colab": {
          "base_uri": "https://localhost:8080/"
        },
        "id": "dGYckzQhJR_R",
        "outputId": "0358473c-2cb0-4fb3-8a57-c33a5da3c73f"
      },
      "source": [
        "# Libraries\n",
        "import matplotlib.pyplot as plt\n",
        "import pandas as pd\n",
        "import torch\n",
        "print('Version', torch.__version__)\n",
        "print('CUDA enabled:', torch.cuda.is_available())\n",
        "\n",
        "# Preliminaries\n",
        "from torchtext.data import Field, TabularDataset, BucketIterator, RawField\n",
        "\n",
        "# Models\n",
        "import torch.nn as nn\n",
        "from torch.nn.utils.rnn import pack_padded_sequence, pad_packed_sequence\n",
        "\n",
        "# Training\n",
        "import torch.optim as optim\n",
        "\n",
        "# Evaluation\n",
        "from sklearn.metrics import accuracy_score, classification_report, confusion_matrix\n",
        "import seaborn as sns\n",
        "\n",
        "import torchtext\n",
        "import torch\n",
        "from torchtext.data.utils import get_tokenizer\n",
        "from collections import Counter\n",
        "from torchtext.vocab import Vocab\n",
        "import io"
      ],
      "execution_count": 1,
      "outputs": [
        {
          "output_type": "stream",
          "text": [
            "Version 1.7.0+cu101\n",
            "CUDA enabled: True\n"
          ],
          "name": "stdout"
        }
      ]
    },
    {
      "cell_type": "code",
      "metadata": {
        "colab": {
          "base_uri": "https://localhost:8080/"
        },
        "id": "DGab2jrpJnUx",
        "outputId": "fb37fa80-7bd0-46d8-9bd2-186959207b65"
      },
      "source": [
        "USE_CUDA = True\n",
        "use_cuda = USE_CUDA and torch.cuda.is_available()\n",
        "\n",
        "device = torch.device(\"cuda:0\" if use_cuda else \"cpu\")\n",
        "print('Using device', device)"
      ],
      "execution_count": 2,
      "outputs": [
        {
          "output_type": "stream",
          "text": [
            "Using device cuda:0\n"
          ],
          "name": "stdout"
        }
      ]
    },
    {
      "cell_type": "code",
      "metadata": {
        "id": "nDwItX4AZtbR"
      },
      "source": [
        "# from sklearn.preprocessing import LabelBinarizer\n",
        "# lb = LabelBinarizer().fit(tweets_df['politician'])\n",
        "# tweets_df[\"label\"] = tweets_df[\"politician\"].apply(lambda x: lb.transform([x])[0])\n",
        "# tweets_df.head(10)"
      ],
      "execution_count": 36,
      "outputs": []
    },
    {
      "cell_type": "code",
      "metadata": {
        "colab": {
          "base_uri": "https://localhost:8080/",
          "height": 479
        },
        "id": "0Zd69FWtmkAZ",
        "outputId": "eb6208da-7fab-4ac9-f55a-29c329488f7a"
      },
      "source": [
        "# shuffle\n",
        "tweets_df = tweets_df.sample(frac = 1)\n",
        "train_df = tweets_df[:9000]\n",
        "valid_df = tweets_df[9000:10000]\n",
        "test_df = tweets_df[10000:]\n",
        "valid_df.to_csv(DATA_PATH+'valid.csv')\n",
        "train_df.to_csv(DATA_PATH+'train.csv')\n",
        "test_df.to_csv(DATA_PATH+'test.csv')\n",
        "train_df.head()"
      ],
      "execution_count": 37,
      "outputs": [
        {
          "output_type": "execute_result",
          "data": {
            "text/html": [
              "<div>\n",
              "<style scoped>\n",
              "    .dataframe tbody tr th:only-of-type {\n",
              "        vertical-align: middle;\n",
              "    }\n",
              "\n",
              "    .dataframe tbody tr th {\n",
              "        vertical-align: top;\n",
              "    }\n",
              "\n",
              "    .dataframe thead th {\n",
              "        text-align: right;\n",
              "    }\n",
              "</style>\n",
              "<table border=\"1\" class=\"dataframe\">\n",
              "  <thead>\n",
              "    <tr style=\"text-align: right;\">\n",
              "      <th></th>\n",
              "      <th>text</th>\n",
              "      <th>politician</th>\n",
              "      <th>text_lemmatized</th>\n",
              "      <th>sanders</th>\n",
              "      <th>pence</th>\n",
              "      <th>trump</th>\n",
              "      <th>biden</th>\n",
              "      <th>harris</th>\n",
              "    </tr>\n",
              "  </thead>\n",
              "  <tbody>\n",
              "    <tr>\n",
              "      <th>10898</th>\n",
              "      <td>nobody wants to report that pennsylvania and m...</td>\n",
              "      <td>realDonaldTrump</td>\n",
              "      <td>nobody want to report that pennsylvania and mi...</td>\n",
              "      <td>0</td>\n",
              "      <td>0</td>\n",
              "      <td>1</td>\n",
              "      <td>0</td>\n",
              "      <td>0</td>\n",
              "    </tr>\n",
              "    <tr>\n",
              "      <th>9384</th>\n",
              "      <td>thank you aapivictoryfund for having me yester...</td>\n",
              "      <td>KamalaHarris</td>\n",
              "      <td>thank you aapivictoryfund for having me yester...</td>\n",
              "      <td>0</td>\n",
              "      <td>0</td>\n",
              "      <td>0</td>\n",
              "      <td>0</td>\n",
              "      <td>1</td>\n",
              "    </tr>\n",
              "    <tr>\n",
              "      <th>5785</th>\n",
              "      <td>rt drbiden how it started            how its g...</td>\n",
              "      <td>JoeBiden</td>\n",
              "      <td>rt drbiden how it started how it going url</td>\n",
              "      <td>0</td>\n",
              "      <td>0</td>\n",
              "      <td>0</td>\n",
              "      <td>1</td>\n",
              "      <td>0</td>\n",
              "    </tr>\n",
              "    <tr>\n",
              "      <th>6805</th>\n",
              "      <td>back in january when president trump signed hi...</td>\n",
              "      <td>JoeBiden</td>\n",
              "      <td>back in january when president trump signed hi...</td>\n",
              "      <td>0</td>\n",
              "      <td>0</td>\n",
              "      <td>0</td>\n",
              "      <td>1</td>\n",
              "      <td>0</td>\n",
              "    </tr>\n",
              "    <tr>\n",
              "      <th>5304</th>\n",
              "      <td>together were going to rebuild our economy and...</td>\n",
              "      <td>JoeBiden</td>\n",
              "      <td>together were going to rebuild our economy and...</td>\n",
              "      <td>0</td>\n",
              "      <td>0</td>\n",
              "      <td>0</td>\n",
              "      <td>1</td>\n",
              "      <td>0</td>\n",
              "    </tr>\n",
              "  </tbody>\n",
              "</table>\n",
              "</div>"
            ],
            "text/plain": [
              "                                                    text  ... harris\n",
              "10898  nobody wants to report that pennsylvania and m...  ...      0\n",
              "9384   thank you aapivictoryfund for having me yester...  ...      1\n",
              "5785   rt drbiden how it started            how its g...  ...      0\n",
              "6805   back in january when president trump signed hi...  ...      0\n",
              "5304   together were going to rebuild our economy and...  ...      0\n",
              "\n",
              "[5 rows x 8 columns]"
            ]
          },
          "metadata": {
            "tags": []
          },
          "execution_count": 37
        }
      ]
    },
    {
      "cell_type": "code",
      "metadata": {
        "id": "9URB0Sueo8So"
      },
      "source": [
        "import pandas as pd\n",
        "import os\n",
        "BASE_PATH = 'drive/MyDrive/colab_files/fp/'\n",
        "DATA_PATH = 'drive/MyDrive/colab_files/fp/dataset/'\n",
        "# prepare tensor format data\n",
        "from torchtext.data import Field, TabularDataset, LabelField\n",
        "# tokenizer = lambda x: x.split()\n",
        "# label_field = Field(sequential=False, use_vocab=False, batch_first=True, dtype=torch.float, is_target=True)\n",
        "label_field = LabelField(sequential=False, use_vocab=False, batch_first=True)\n",
        "text_field = Field(tokenize='spacy', include_lengths=True, batch_first=True)\n",
        "fields = [('id', None), ('text', None), ('politician', None),\\\n",
        "          ('text_lemmatized', text_field), ('sanders', label_field),\\\n",
        "          ('pence', label_field), ('trump', label_field), ('biden', label_field),\\\n",
        "          ('harris', label_field)]\n",
        "\n",
        "# TabularDataset\n",
        "train, valid, test = TabularDataset.splits(path=DATA_PATH, train='train.csv', validation='valid.csv', test='test.csv',\\\n",
        "                                          format='csv', skip_header=True, fields=fields)"
      ],
      "execution_count": 4,
      "outputs": []
    },
    {
      "cell_type": "code",
      "metadata": {
        "id": "PuK43rrQzNiM"
      },
      "source": [
        "from torchtext.data import Iterator, BucketIterator\n",
        "# Iterators\n",
        "train_iter, valid_iter, test_iter = BucketIterator.splits((train, valid, test),\\\n",
        "                                                          batch_sizes=(64, 64, 64),\\\n",
        "                                                          device=device,\\\n",
        "                                                          sort_key=lambda x:len(x.text_lemmatized),\\\n",
        "                                                          sort_within_batch=False,\\\n",
        "                                                          repeat=False)\n",
        "text_field.build_vocab(train, min_freq=3)"
      ],
      "execution_count": 5,
      "outputs": []
    },
    {
      "cell_type": "code",
      "metadata": {
        "id": "a3ygr9iLTkuo"
      },
      "source": [
        "class BatchWrapper:\n",
        "      def __init__(self, dl, x_var, y_vars):\n",
        "            self.dl, self.x_var, self.y_vars = dl, x_var, y_vars # we pass in the list of attributes for x \n",
        "\n",
        "      def __iter__(self):\n",
        "            for batch in self.dl:\n",
        "                  x = getattr(batch, self.x_var) # we assume only one input in this wrapper\n",
        "\n",
        "                  y = torch.cat([getattr(batch, feat).unsqueeze(1) for feat in self.y_vars], dim=1).float()\n",
        "\n",
        "                  yield (x, y)\n",
        "\n",
        "      def __len__(self):\n",
        "            return len(self.dl)\n",
        "\n",
        "train_dl = BatchWrapper(train_iter, \"text_lemmatized\", [\"sanders\",\t\"pence\", \"trump\", \"biden\", \"harris\"])\n",
        "valid_dl = BatchWrapper(valid_iter, \"text_lemmatized\", [\"sanders\",\t\"pence\", \"trump\", \"biden\", \"harris\"])\n",
        "test_dl = BatchWrapper(test_iter, \"text_lemmatized\", [\"sanders\", \"pence\", \"trump\", \"biden\", \"harris\"])"
      ],
      "execution_count": 6,
      "outputs": []
    },
    {
      "cell_type": "markdown",
      "metadata": {
        "id": "G2IeDqLnq2CI"
      },
      "source": [
        "# Model\n"
      ]
    },
    {
      "cell_type": "markdown",
      "metadata": {
        "id": "RntI-6enq5pL"
      },
      "source": [
        "## LSTM"
      ]
    },
    {
      "cell_type": "code",
      "metadata": {
        "id": "qAIpsUU2M05n"
      },
      "source": [
        "import torch.nn as nn\n",
        "import torch.nn.functional as F\n",
        "import torch.optim as optim\n",
        "from torch.autograd import Variable\n",
        "\n",
        "class LSTM(nn.Module):\n",
        "    def __init__(self, dimension=128, emb_dim=512):\n",
        "        super(LSTM, self).__init__()\n",
        "\n",
        "        self.embedding = nn.Embedding(len(text_field.vocab), emb_dim)\n",
        "        self.dimension = dimension\n",
        "        self.lstm = nn.LSTM(input_size=emb_dim,\n",
        "                            hidden_size=dimension,\n",
        "                            num_layers=5,\n",
        "                            batch_first=True,\n",
        "                            bidirectional=True)\n",
        "        self.drop = nn.Dropout(p=0.5)\n",
        "\n",
        "        self.fc = nn.Linear(2*dimension, 5)\n",
        "\n",
        "    def forward(self, text, text_len):\n",
        "\n",
        "        text_emb = self.embedding(text)\n",
        "\n",
        "        packed_input = pack_padded_sequence(text_emb, text_len, batch_first=True, enforce_sorted=False)\n",
        "        packed_output, _ = self.lstm(packed_input)\n",
        "        output, _ = pad_packed_sequence(packed_output, batch_first=True)\n",
        "\n",
        "        out_forward = output[range(len(output)), text_len - 1, :self.dimension]\n",
        "        out_reverse = output[:, 0, self.dimension:]\n",
        "        out_reduced = torch.cat((out_forward, out_reverse), 1)\n",
        "        text_fea = self.drop(out_reduced)\n",
        "\n",
        "        preds = self.fc(text_fea)\n",
        "        preds = torch.sigmoid(preds)\n",
        "        return preds"
      ],
      "execution_count": 26,
      "outputs": []
    },
    {
      "cell_type": "code",
      "metadata": {
        "id": "ylHuqj-qWJ5N"
      },
      "source": [
        "# model = LSTM(embedding_dim=512, hidden_dim=128, vocab_size=len(text_field.vocab), tagset_size=5).to(device)\n",
        "model = LSTM().to(device)"
      ],
      "execution_count": 22,
      "outputs": []
    },
    {
      "cell_type": "markdown",
      "metadata": {
        "id": "BzrU8_LGq_Te"
      },
      "source": [
        "## Train"
      ]
    },
    {
      "cell_type": "code",
      "metadata": {
        "id": "v_PTyMGnaixJ"
      },
      "source": [
        "# Save and Load Functions\n",
        "def save_checkpoint(save_path, model, optimizer, valid_loss):\n",
        "\n",
        "    if save_path == None:\n",
        "        return\n",
        "    \n",
        "    state_dict = {'model_state_dict': model.state_dict(),\n",
        "                  'optimizer_state_dict': optimizer.state_dict(),\n",
        "                  'valid_loss': valid_loss}\n",
        "    \n",
        "    torch.save(state_dict, save_path)\n",
        "    print(f'Model saved to ==> {save_path}')\n",
        "\n",
        "\n",
        "def load_checkpoint(load_path, model, optimizer):\n",
        "\n",
        "    if load_path==None:\n",
        "        return\n",
        "    \n",
        "    state_dict = torch.load(load_path, map_location=device)\n",
        "    print(f'Model loaded from <== {load_path}')\n",
        "    \n",
        "    model.load_state_dict(state_dict['model_state_dict'])\n",
        "    optimizer.load_state_dict(state_dict['optimizer_state_dict'])\n",
        "    \n",
        "    return state_dict['valid_loss']\n",
        "\n",
        "\n",
        "def save_metrics(save_path, train_loss_list, valid_loss_list, global_steps_list):\n",
        "\n",
        "    if save_path == None:\n",
        "        return\n",
        "    \n",
        "    state_dict = {'train_loss_list': train_loss_list,\n",
        "                  'valid_loss_list': valid_loss_list,\n",
        "                  'global_steps_list': global_steps_list}\n",
        "    \n",
        "    torch.save(state_dict, save_path)\n",
        "    print(f'Model saved to ==> {save_path}')\n",
        "\n",
        "\n",
        "def load_metrics(load_path):\n",
        "\n",
        "    if load_path==None:\n",
        "        return\n",
        "    \n",
        "    state_dict = torch.load(load_path, map_location=device)\n",
        "    print(f'Model loaded from <== {load_path}')\n",
        "    \n",
        "    return state_dict['train_loss_list'], state_dict['valid_loss_list'], state_dict['global_steps_list']"
      ],
      "execution_count": 9,
      "outputs": []
    },
    {
      "cell_type": "code",
      "metadata": {
        "colab": {
          "base_uri": "https://localhost:8080/"
        },
        "id": "KMToCCz4bDcA",
        "outputId": "9f047069-89c9-4028-d020-24c9ee381357"
      },
      "source": [
        "import tqdm\n",
        "\n",
        "# Training Function\n",
        "def train(model,\n",
        "          optimizer,\n",
        "          criterion = nn.BCELoss(),\n",
        "          train_loader = train_iter,\n",
        "          valid_loader = valid_iter,\n",
        "          num_epochs = 5,\n",
        "          eval_every = len(train_iter) // 2,\n",
        "          file_path = BASE_PATH+'model',\n",
        "          best_valid_loss = float(\"Inf\")):\n",
        "    \n",
        "    # initialize running values\n",
        "    running_loss = 0.0\n",
        "    valid_running_loss = 0.0\n",
        "    global_step = 0\n",
        "    train_loss_list = []\n",
        "    valid_loss_list = []\n",
        "    global_steps_list = []\n",
        "\n",
        "    # training loop\n",
        "    model.train()\n",
        "    for epoch in range(num_epochs):\n",
        "        for (x, len_x), y in tqdm.tqdm(train_dl, disable=True):           \n",
        "            x, y = x.to(device), y.to(device)\n",
        "            len_x = len_x.to('cpu')\n",
        "            output = model(x, len_x)\n",
        "\n",
        "            loss = criterion(output, y)\n",
        "            optimizer.zero_grad()\n",
        "            loss.backward()\n",
        "            optimizer.step()\n",
        "\n",
        "            # update running values\n",
        "            running_loss += loss.item()\n",
        "            global_step += 1\n",
        "\n",
        "            # evaluation step\n",
        "            if global_step % eval_every == 0:\n",
        "                model.eval()\n",
        "                with torch.no_grad():                    \n",
        "                  # validation loop\n",
        "                    for (x, len_x), y in tqdm.tqdm(valid_dl, disable=True):\n",
        "                        x, y = x.to(device), y.to(device)\n",
        "                        len_x = len_x.to('cpu')\n",
        "                        output = model(x, len_x)\n",
        "\n",
        "                        loss = criterion(output, y)\n",
        "                        valid_running_loss += loss.item()\n",
        "\n",
        "                # evaluation\n",
        "                average_train_loss = running_loss / eval_every\n",
        "                average_valid_loss = valid_running_loss / len(valid_loader)\n",
        "                train_loss_list.append(average_train_loss)\n",
        "                valid_loss_list.append(average_valid_loss)\n",
        "                global_steps_list.append(global_step)\n",
        "\n",
        "                # resetting running values\n",
        "                running_loss = 0.0                \n",
        "                valid_running_loss = 0.0\n",
        "                model.train()\n",
        "\n",
        "                # print progress\n",
        "                print('Epoch [{}/{}], Step [{}/{}], Train Loss: {:.4f}, Valid Loss: {:.4f}'\n",
        "                      .format(epoch+1, num_epochs, global_step, num_epochs*len(train_loader),\n",
        "                              average_train_loss, average_valid_loss))\n",
        "                \n",
        "                # checkpoint\n",
        "                if best_valid_loss > average_valid_loss:\n",
        "                    best_valid_loss = average_valid_loss\n",
        "                    save_checkpoint(file_path + '/model.pt', model, optimizer, best_valid_loss)\n",
        "                    save_metrics(file_path + '/metrics.pt', train_loss_list, valid_loss_list, global_steps_list)\n",
        "    \n",
        "    save_metrics(file_path + '/metrics.pt', train_loss_list, valid_loss_list, global_steps_list)\n",
        "    print('Finished Training!')\n",
        "\n",
        "\n",
        "model = LSTM().to(device)\n",
        "optimizer = optim.Adam(model.parameters(), lr=0.001)\n",
        "\n",
        "train(model=model, optimizer=optimizer, num_epochs=10)"
      ],
      "execution_count": 27,
      "outputs": [
        {
          "output_type": "stream",
          "text": [
            "Epoch [1/10], Step [70/1410], Train Loss: 0.5103, Valid Loss: 0.4468\n",
            "Model saved to ==> drive/MyDrive/colab_files/fp/model/model.pt\n",
            "Model saved to ==> drive/MyDrive/colab_files/fp/model/metrics.pt\n",
            "Epoch [1/10], Step [140/1410], Train Loss: 0.4104, Valid Loss: 0.3846\n",
            "Model saved to ==> drive/MyDrive/colab_files/fp/model/model.pt\n",
            "Model saved to ==> drive/MyDrive/colab_files/fp/model/metrics.pt\n",
            "Epoch [2/10], Step [210/1410], Train Loss: 0.3586, Valid Loss: 0.3445\n",
            "Model saved to ==> drive/MyDrive/colab_files/fp/model/model.pt\n",
            "Model saved to ==> drive/MyDrive/colab_files/fp/model/metrics.pt\n",
            "Epoch [2/10], Step [280/1410], Train Loss: 0.3310, Valid Loss: 0.3165\n",
            "Model saved to ==> drive/MyDrive/colab_files/fp/model/model.pt\n",
            "Model saved to ==> drive/MyDrive/colab_files/fp/model/metrics.pt\n",
            "Epoch [3/10], Step [350/1410], Train Loss: 0.2781, Valid Loss: 0.3025\n",
            "Model saved to ==> drive/MyDrive/colab_files/fp/model/model.pt\n",
            "Model saved to ==> drive/MyDrive/colab_files/fp/model/metrics.pt\n",
            "Epoch [3/10], Step [420/1410], Train Loss: 0.2645, Valid Loss: 0.2823\n",
            "Model saved to ==> drive/MyDrive/colab_files/fp/model/model.pt\n",
            "Model saved to ==> drive/MyDrive/colab_files/fp/model/metrics.pt\n",
            "Epoch [4/10], Step [490/1410], Train Loss: 0.2198, Valid Loss: 0.2666\n",
            "Model saved to ==> drive/MyDrive/colab_files/fp/model/model.pt\n",
            "Model saved to ==> drive/MyDrive/colab_files/fp/model/metrics.pt\n",
            "Epoch [4/10], Step [560/1410], Train Loss: 0.1952, Valid Loss: 0.2572\n",
            "Model saved to ==> drive/MyDrive/colab_files/fp/model/model.pt\n",
            "Model saved to ==> drive/MyDrive/colab_files/fp/model/metrics.pt\n",
            "Epoch [5/10], Step [630/1410], Train Loss: 0.1456, Valid Loss: 0.2612\n",
            "Epoch [5/10], Step [700/1410], Train Loss: 0.1510, Valid Loss: 0.2472\n",
            "Model saved to ==> drive/MyDrive/colab_files/fp/model/model.pt\n",
            "Model saved to ==> drive/MyDrive/colab_files/fp/model/metrics.pt\n",
            "Epoch [6/10], Step [770/1410], Train Loss: 0.1047, Valid Loss: 0.2528\n",
            "Epoch [6/10], Step [840/1410], Train Loss: 0.1079, Valid Loss: 0.2605\n",
            "Epoch [7/10], Step [910/1410], Train Loss: 0.0741, Valid Loss: 0.2565\n",
            "Epoch [7/10], Step [980/1410], Train Loss: 0.0881, Valid Loss: 0.2609\n",
            "Epoch [8/10], Step [1050/1410], Train Loss: 0.0523, Valid Loss: 0.2940\n",
            "Epoch [8/10], Step [1120/1410], Train Loss: 0.0682, Valid Loss: 0.2900\n",
            "Epoch [9/10], Step [1190/1410], Train Loss: 0.0522, Valid Loss: 0.3204\n",
            "Epoch [9/10], Step [1260/1410], Train Loss: 0.0496, Valid Loss: 0.3324\n",
            "Epoch [10/10], Step [1330/1410], Train Loss: 0.0428, Valid Loss: 0.3267\n",
            "Epoch [10/10], Step [1400/1410], Train Loss: 0.0467, Valid Loss: 0.2970\n",
            "Model saved to ==> drive/MyDrive/colab_files/fp/model/metrics.pt\n",
            "Finished Training!\n"
          ],
          "name": "stdout"
        }
      ]
    },
    {
      "cell_type": "code",
      "metadata": {
        "colab": {
          "base_uri": "https://localhost:8080/"
        },
        "id": "dzSGrntZ-yYr",
        "outputId": "b0941c6d-07bb-49c4-9ebf-d420e46405c5"
      },
      "source": [
        "load_checkpoint(BASE_PATH+'model/model.pt', model, optimizer)"
      ],
      "execution_count": 23,
      "outputs": [
        {
          "output_type": "stream",
          "text": [
            "Model loaded from <== drive/MyDrive/colab_files/fp/model/model.pt\n"
          ],
          "name": "stdout"
        },
        {
          "output_type": "execute_result",
          "data": {
            "text/plain": [
              "0.22335103433579206"
            ]
          },
          "metadata": {
            "tags": []
          },
          "execution_count": 23
        }
      ]
    },
    {
      "cell_type": "code",
      "metadata": {
        "id": "tmNctggUdknj"
      },
      "source": [
        "import numpy as np\n",
        "map = {\n",
        "    0: 'BernieSanders',\n",
        "    1: 'Mike_Pence',\n",
        "    2: 'realDonaldTrump',\n",
        "    3: 'JoeBiden',\n",
        "    4: 'KamalaHarris'\n",
        "}\n",
        "politician_preds = []\n",
        "numerical_preds = []\n",
        "for (x, len_x), y in tqdm.tqdm(test_dl, disable=True):\n",
        "    x, y = x.to(device), y.to(device)\n",
        "    len_x = len_x.to('cpu')\n",
        "    preds = model(x, len_x)\n",
        "    preds = preds.to('cpu')\n",
        "    preds = preds.data.numpy()\n",
        "    for pred in preds:\n",
        "        pred = 1 / (1 + np.exp(-pred))\n",
        "        numerical_preds.append(pred)\n",
        "        politician_preds.append(map[np.argmax(pred)])"
      ],
      "execution_count": 24,
      "outputs": []
    },
    {
      "cell_type": "code",
      "metadata": {
        "colab": {
          "base_uri": "https://localhost:8080/"
        },
        "id": "SHil5PEfAJVx",
        "outputId": "26b1f41a-c367-4217-c0ae-7426dbb4c92a"
      },
      "source": [
        "test_df = pd.read_csv(DATA_PATH+'test.csv', index_col=0)\n",
        "all = 0\n",
        "correct = 0\n",
        "for pred, label, arr in zip(politician_preds, test_df['politician'], numerical_preds):\n",
        "    if pred == label:\n",
        "        correct += 1\n",
        "        # print(arr)\n",
        "    # else:\n",
        "    #     print(arr)\n",
        "    all += 1\n",
        "print(correct/all)"
      ],
      "execution_count": 28,
      "outputs": [
        {
          "output_type": "stream",
          "text": [
            "0.1989795918367347\n"
          ],
          "name": "stdout"
        }
      ]
    },
    {
      "cell_type": "code",
      "metadata": {
        "id": "cO9GTZNxeVrO"
      },
      "source": [
        ""
      ],
      "execution_count": null,
      "outputs": []
    }
  ]
}